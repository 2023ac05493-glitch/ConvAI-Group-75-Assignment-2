{
 "cells": [
  {
   "cell_type": "code",
   "execution_count": 1,
   "id": "8f75324f",
   "metadata": {},
   "outputs": [],
   "source": [
    "import os\n",
    "import pandas as pd"
   ]
  },
  {
   "cell_type": "code",
   "execution_count": 2,
   "id": "7bd6e288",
   "metadata": {},
   "outputs": [],
   "source": [
    "# Root directory of your project\n",
    "ROOT_DIR = \"../\" \n",
    "\n",
    "RAW_DATA_DIR = os.path.join(ROOT_DIR, \"data\", \"raw\")"
   ]
  },
  {
   "cell_type": "code",
   "execution_count": 3,
   "id": "c7893632",
   "metadata": {},
   "outputs": [],
   "source": [
    "quarters = [\"2024q1\", \"2024q2\", \"2024q3\", \"2024q4\", \"2025q1\", \"2025q2\"]\n",
    "all_annual_filings = []"
   ]
  },
  {
   "cell_type": "code",
   "execution_count": 4,
   "id": "48efc10b",
   "metadata": {},
   "outputs": [],
   "source": [
    "# print(sub_df.columns)\n"
   ]
  },
  {
   "cell_type": "code",
   "execution_count": 5,
   "id": "2b406a24",
   "metadata": {},
   "outputs": [],
   "source": [
    "for q in quarters:\n",
    "    folder = os.path.join(RAW_DATA_DIR, q)\n",
    "    sub_path = os.path.join(folder, \"sub.txt\")\n",
    "    \n",
    "    # 1) Load sub.txt\n",
    "    sub_df = pd.read_csv(sub_path, sep=\"\\t\", low_memory=False)\n",
    "    \n",
    "    # 2) Filter only 10-K filings (annual filings)\n",
    "    annual_filings = sub_df.loc[sub_df[\"form\"] == \"10-K\"].copy()\n",
    "    \n",
    "    annual_filings[\"quarter\"] = q\n",
    "    all_annual_filings.append(annual_filings)"
   ]
  },
  {
   "cell_type": "code",
   "execution_count": 6,
   "id": "3894b968",
   "metadata": {},
   "outputs": [
    {
     "name": "stdout",
     "output_type": "stream",
     "text": [
      "Total number of 10-K filings found: 10578\n"
     ]
    },
    {
     "data": {
      "text/html": [
       "<div>\n",
       "<style scoped>\n",
       "    .dataframe tbody tr th:only-of-type {\n",
       "        vertical-align: middle;\n",
       "    }\n",
       "\n",
       "    .dataframe tbody tr th {\n",
       "        vertical-align: top;\n",
       "    }\n",
       "\n",
       "    .dataframe thead th {\n",
       "        text-align: right;\n",
       "    }\n",
       "</style>\n",
       "<table border=\"1\" class=\"dataframe\">\n",
       "  <thead>\n",
       "    <tr style=\"text-align: right;\">\n",
       "      <th></th>\n",
       "      <th>cik</th>\n",
       "      <th>name</th>\n",
       "      <th>adsh</th>\n",
       "      <th>filed</th>\n",
       "      <th>form</th>\n",
       "      <th>quarter</th>\n",
       "    </tr>\n",
       "  </thead>\n",
       "  <tbody>\n",
       "    <tr>\n",
       "      <th>0</th>\n",
       "      <td>1059556</td>\n",
       "      <td>MOODYS CORP /DE/</td>\n",
       "      <td>0001059556-24-000017</td>\n",
       "      <td>20240214</td>\n",
       "      <td>10-K</td>\n",
       "      <td>2024q1</td>\n",
       "    </tr>\n",
       "    <tr>\n",
       "      <th>1</th>\n",
       "      <td>1206264</td>\n",
       "      <td>TEMPUR SEALY INTERNATIONAL, INC.</td>\n",
       "      <td>0001206264-24-000050</td>\n",
       "      <td>20240216</td>\n",
       "      <td>10-K</td>\n",
       "      <td>2024q1</td>\n",
       "    </tr>\n",
       "    <tr>\n",
       "      <th>2</th>\n",
       "      <td>1171759</td>\n",
       "      <td>RED ROBIN GOURMET BURGERS INC</td>\n",
       "      <td>0001171759-24-000011</td>\n",
       "      <td>20240228</td>\n",
       "      <td>10-K</td>\n",
       "      <td>2024q1</td>\n",
       "    </tr>\n",
       "    <tr>\n",
       "      <th>3</th>\n",
       "      <td>891532</td>\n",
       "      <td>PERMA FIX ENVIRONMENTAL SERVICES INC</td>\n",
       "      <td>0001493152-24-009805</td>\n",
       "      <td>20240313</td>\n",
       "      <td>10-K</td>\n",
       "      <td>2024q1</td>\n",
       "    </tr>\n",
       "    <tr>\n",
       "      <th>4</th>\n",
       "      <td>885725</td>\n",
       "      <td>BOSTON SCIENTIFIC CORP</td>\n",
       "      <td>0000885725-24-000017</td>\n",
       "      <td>20240220</td>\n",
       "      <td>10-K</td>\n",
       "      <td>2024q1</td>\n",
       "    </tr>\n",
       "  </tbody>\n",
       "</table>\n",
       "</div>"
      ],
      "text/plain": [
       "       cik                                  name                  adsh  \\\n",
       "0  1059556                      MOODYS CORP /DE/  0001059556-24-000017   \n",
       "1  1206264      TEMPUR SEALY INTERNATIONAL, INC.  0001206264-24-000050   \n",
       "2  1171759         RED ROBIN GOURMET BURGERS INC  0001171759-24-000011   \n",
       "3   891532  PERMA FIX ENVIRONMENTAL SERVICES INC  0001493152-24-009805   \n",
       "4   885725                BOSTON SCIENTIFIC CORP  0000885725-24-000017   \n",
       "\n",
       "      filed  form quarter  \n",
       "0  20240214  10-K  2024q1  \n",
       "1  20240216  10-K  2024q1  \n",
       "2  20240228  10-K  2024q1  \n",
       "3  20240313  10-K  2024q1  \n",
       "4  20240220  10-K  2024q1  "
      ]
     },
     "execution_count": 6,
     "metadata": {},
     "output_type": "execute_result"
    }
   ],
   "source": [
    "# Combine results across quarters\n",
    "annual_filings_all = pd.concat(all_annual_filings, ignore_index=True)\n",
    "\n",
    "print(f\"Total number of 10-K filings found: {len(annual_filings_all)}\")\n",
    "annual_filings_all[[\"cik\",\"name\",\"adsh\",\"filed\",\"form\",\"quarter\"]].head()"
   ]
  },
  {
   "cell_type": "code",
   "execution_count": 7,
   "id": "d7c5d546",
   "metadata": {},
   "outputs": [],
   "source": [
    "filtered_num_all = []"
   ]
  },
  {
   "cell_type": "code",
   "execution_count": 8,
   "id": "cf054a6f",
   "metadata": {},
   "outputs": [],
   "source": [
    "for q in quarters:\n",
    "    folder = os.path.join(RAW_DATA_DIR, q)\n",
    "    num_path = os.path.join(folder, \"num.txt\")\n",
    "    \n",
    "    # Load num.txt   (also TAB-separated)\n",
    "    num_df = pd.read_csv(num_path, sep=\"\\t\", low_memory=False)\n",
    "    \n",
    "    # Get the list of adsh values for the 10-K filings in this quarter\n",
    "    adsh_q = annual_filings_all.loc[annual_filings_all[\"quarter\"] == q, \"adsh\"].tolist()\n",
    "    \n",
    "    # Filter num_df\n",
    "    num_filtered = num_df[num_df[\"adsh\"].isin(adsh_q)].copy()\n",
    "    num_filtered[\"quarter\"] = q\n",
    "    \n",
    "    filtered_num_all.append(num_filtered)"
   ]
  },
  {
   "cell_type": "code",
   "execution_count": 9,
   "id": "17ea1b89",
   "metadata": {},
   "outputs": [
    {
     "name": "stdout",
     "output_type": "stream",
     "text": [
      "Total number of financial facts extracted: 5810260\n"
     ]
    },
    {
     "data": {
      "text/html": [
       "<div>\n",
       "<style scoped>\n",
       "    .dataframe tbody tr th:only-of-type {\n",
       "        vertical-align: middle;\n",
       "    }\n",
       "\n",
       "    .dataframe tbody tr th {\n",
       "        vertical-align: top;\n",
       "    }\n",
       "\n",
       "    .dataframe thead th {\n",
       "        text-align: right;\n",
       "    }\n",
       "</style>\n",
       "<table border=\"1\" class=\"dataframe\">\n",
       "  <thead>\n",
       "    <tr style=\"text-align: right;\">\n",
       "      <th></th>\n",
       "      <th>adsh</th>\n",
       "      <th>tag</th>\n",
       "      <th>version</th>\n",
       "      <th>ddate</th>\n",
       "      <th>qtrs</th>\n",
       "      <th>uom</th>\n",
       "      <th>segments</th>\n",
       "      <th>coreg</th>\n",
       "      <th>value</th>\n",
       "      <th>footnote</th>\n",
       "      <th>quarter</th>\n",
       "    </tr>\n",
       "  </thead>\n",
       "  <tbody>\n",
       "    <tr>\n",
       "      <th>0</th>\n",
       "      <td>0001025378-24-000037</td>\n",
       "      <td>AllocatedShareBasedCompensationExpense</td>\n",
       "      <td>us-gaap/2023</td>\n",
       "      <td>20211231</td>\n",
       "      <td>4</td>\n",
       "      <td>USD</td>\n",
       "      <td>NaN</td>\n",
       "      <td>NaN</td>\n",
       "      <td>2.488100e+07</td>\n",
       "      <td>NaN</td>\n",
       "      <td>2024q1</td>\n",
       "    </tr>\n",
       "    <tr>\n",
       "      <th>1</th>\n",
       "      <td>0001213900-24-027206</td>\n",
       "      <td>AdjustmentsToAdditionalPaidInCapitalShareBased...</td>\n",
       "      <td>us-gaap/2023</td>\n",
       "      <td>20221231</td>\n",
       "      <td>4</td>\n",
       "      <td>USD</td>\n",
       "      <td>NaN</td>\n",
       "      <td>NaN</td>\n",
       "      <td>7.149000e+06</td>\n",
       "      <td>NaN</td>\n",
       "      <td>2024q1</td>\n",
       "    </tr>\n",
       "    <tr>\n",
       "      <th>2</th>\n",
       "      <td>0000950170-24-028127</td>\n",
       "      <td>AdjustmentsToAdditionalPaidInCapitalSharebased...</td>\n",
       "      <td>us-gaap/2023</td>\n",
       "      <td>20211231</td>\n",
       "      <td>4</td>\n",
       "      <td>USD</td>\n",
       "      <td>NaN</td>\n",
       "      <td>NaN</td>\n",
       "      <td>5.176000e+06</td>\n",
       "      <td>NaN</td>\n",
       "      <td>2024q1</td>\n",
       "    </tr>\n",
       "    <tr>\n",
       "      <th>3</th>\n",
       "      <td>0001628280-24-006850</td>\n",
       "      <td>LongTermDebtNoncurrent</td>\n",
       "      <td>us-gaap/2023</td>\n",
       "      <td>20221231</td>\n",
       "      <td>0</td>\n",
       "      <td>USD</td>\n",
       "      <td>DebtInstrument=A415NotesDue2043;</td>\n",
       "      <td>NaN</td>\n",
       "      <td>1.239000e+09</td>\n",
       "      <td>NaN</td>\n",
       "      <td>2024q1</td>\n",
       "    </tr>\n",
       "    <tr>\n",
       "      <th>4</th>\n",
       "      <td>0001174947-24-000361</td>\n",
       "      <td>PolicyholderBenefitsAndClaimsIncurredNet</td>\n",
       "      <td>us-gaap/2023</td>\n",
       "      <td>20221231</td>\n",
       "      <td>4</td>\n",
       "      <td>USD</td>\n",
       "      <td>BusinessSegments=NonStandardAuto;</td>\n",
       "      <td>NaN</td>\n",
       "      <td>3.940000e+07</td>\n",
       "      <td>NaN</td>\n",
       "      <td>2024q1</td>\n",
       "    </tr>\n",
       "  </tbody>\n",
       "</table>\n",
       "</div>"
      ],
      "text/plain": [
       "                   adsh                                                tag  \\\n",
       "0  0001025378-24-000037             AllocatedShareBasedCompensationExpense   \n",
       "1  0001213900-24-027206  AdjustmentsToAdditionalPaidInCapitalShareBased...   \n",
       "2  0000950170-24-028127  AdjustmentsToAdditionalPaidInCapitalSharebased...   \n",
       "3  0001628280-24-006850                             LongTermDebtNoncurrent   \n",
       "4  0001174947-24-000361           PolicyholderBenefitsAndClaimsIncurredNet   \n",
       "\n",
       "        version     ddate  qtrs  uom                           segments coreg  \\\n",
       "0  us-gaap/2023  20211231     4  USD                                NaN   NaN   \n",
       "1  us-gaap/2023  20221231     4  USD                                NaN   NaN   \n",
       "2  us-gaap/2023  20211231     4  USD                                NaN   NaN   \n",
       "3  us-gaap/2023  20221231     0  USD   DebtInstrument=A415NotesDue2043;   NaN   \n",
       "4  us-gaap/2023  20221231     4  USD  BusinessSegments=NonStandardAuto;   NaN   \n",
       "\n",
       "          value footnote quarter  \n",
       "0  2.488100e+07      NaN  2024q1  \n",
       "1  7.149000e+06      NaN  2024q1  \n",
       "2  5.176000e+06      NaN  2024q1  \n",
       "3  1.239000e+09      NaN  2024q1  \n",
       "4  3.940000e+07      NaN  2024q1  "
      ]
     },
     "execution_count": 9,
     "metadata": {},
     "output_type": "execute_result"
    }
   ],
   "source": [
    "# Combine all quarters into one dataframe\n",
    "filtered_num_all_df = pd.concat(filtered_num_all, ignore_index=True)\n",
    "\n",
    "print(f\"Total number of financial facts extracted: {len(filtered_num_all_df)}\")\n",
    "filtered_num_all_df.head()"
   ]
  },
  {
   "cell_type": "code",
   "execution_count": 10,
   "id": "ec3d8486",
   "metadata": {},
   "outputs": [],
   "source": [
    "# Tags\n",
    "interesting_tags = [\n",
    "    \"Revenues\",\n",
    "    \"NetIncomeLoss\",\n",
    "    \"Assets\",\n",
    "    \"Liabilities\",\n",
    "    \"CashAndCashEquivalentsAtCarryingValue\"\n",
    "]"
   ]
  },
  {
   "cell_type": "code",
   "execution_count": 11,
   "id": "ad73f019",
   "metadata": {},
   "outputs": [],
   "source": [
    "# Filter the financial facts by these tags\n",
    "facts_df = filtered_num_all_df[ filtered_num_all_df[\"tag\"].isin(interesting_tags) ].copy()\n"
   ]
  },
  {
   "cell_type": "code",
   "execution_count": 12,
   "id": "0c7cef88",
   "metadata": {},
   "outputs": [],
   "source": [
    "# Merge with annual_filings_all to get the company name (on 'adsh')\n",
    "facts_df = facts_df.merge(\n",
    "    annual_filings_all[[\"adsh\", \"name\"]].drop_duplicates(\"adsh\"),\n",
    "    on=\"adsh\",\n",
    "    how=\"left\"\n",
    ")"
   ]
  },
  {
   "cell_type": "code",
   "execution_count": 13,
   "id": "14569632",
   "metadata": {},
   "outputs": [],
   "source": [
    "# Remove duplicates (optional, but safe)\n",
    "facts_df = facts_df.drop_duplicates(subset=[\"adsh\", \"tag\", \"ddate\", \"value\"])\n"
   ]
  },
  {
   "cell_type": "code",
   "execution_count": 14,
   "id": "53b0146f",
   "metadata": {},
   "outputs": [],
   "source": [
    "# Create a natural-language sentence\n",
    "def to_sentence(row):\n",
    "    company = row[\"name\"]\n",
    "    tag = row[\"tag\"]\n",
    "    value = row[\"value\"]\n",
    "    period = row[\"ddate\"]\n",
    "    \n",
    "    # Basic tag → English phrase mapping\n",
    "    tag_map = {\n",
    "        \"Revenues\": \"revenue\",\n",
    "        \"NetIncomeLoss\": \"net income\",\n",
    "        \"Assets\": \"total assets\",\n",
    "        \"Liabilities\": \"total liabilities\",\n",
    "        \"CashAndCashEquivalentsAtCarryingValue\": \"cash and cash equivalents\"\n",
    "    }\n",
    "    \n",
    "    phrase = tag_map.get(tag, tag)\n",
    "    \n",
    "    return f\"{company} reported {phrase} of {value} in {period}.\"\n",
    "\n",
    "facts_df[\"sentence\"] = facts_df.apply(to_sentence, axis=1)"
   ]
  },
  {
   "cell_type": "code",
   "execution_count": 15,
   "id": "600f439a",
   "metadata": {},
   "outputs": [
    {
     "data": {
      "text/html": [
       "<div>\n",
       "<style scoped>\n",
       "    .dataframe tbody tr th:only-of-type {\n",
       "        vertical-align: middle;\n",
       "    }\n",
       "\n",
       "    .dataframe tbody tr th {\n",
       "        vertical-align: top;\n",
       "    }\n",
       "\n",
       "    .dataframe thead th {\n",
       "        text-align: right;\n",
       "    }\n",
       "</style>\n",
       "<table border=\"1\" class=\"dataframe\">\n",
       "  <thead>\n",
       "    <tr style=\"text-align: right;\">\n",
       "      <th></th>\n",
       "      <th>name</th>\n",
       "      <th>tag</th>\n",
       "      <th>value</th>\n",
       "      <th>ddate</th>\n",
       "      <th>sentence</th>\n",
       "    </tr>\n",
       "  </thead>\n",
       "  <tbody>\n",
       "    <tr>\n",
       "      <th>0</th>\n",
       "      <td>MR. COOPER GROUP INC.</td>\n",
       "      <td>CashAndCashEquivalentsAtCarryingValue</td>\n",
       "      <td>5.710000e+08</td>\n",
       "      <td>20231231</td>\n",
       "      <td>MR. COOPER GROUP INC. reported cash and cash e...</td>\n",
       "    </tr>\n",
       "    <tr>\n",
       "      <th>1</th>\n",
       "      <td>PITNEY BOWES INC /DE/</td>\n",
       "      <td>Assets</td>\n",
       "      <td>4.272185e+09</td>\n",
       "      <td>20231231</td>\n",
       "      <td>PITNEY BOWES INC /DE/ reported total assets of...</td>\n",
       "    </tr>\n",
       "    <tr>\n",
       "      <th>2</th>\n",
       "      <td>LENDINGCLUB CORP</td>\n",
       "      <td>Liabilities</td>\n",
       "      <td>6.193000e+06</td>\n",
       "      <td>20231231</td>\n",
       "      <td>LENDINGCLUB CORP reported total liabilities of...</td>\n",
       "    </tr>\n",
       "    <tr>\n",
       "      <th>3</th>\n",
       "      <td>SNAP-ON INC</td>\n",
       "      <td>Revenues</td>\n",
       "      <td>0.000000e+00</td>\n",
       "      <td>20231231</td>\n",
       "      <td>SNAP-ON INC reported revenue of 0.0 in 20231231.</td>\n",
       "    </tr>\n",
       "    <tr>\n",
       "      <th>4</th>\n",
       "      <td>HAWAIIAN ELECTRIC INDUSTRIES INC</td>\n",
       "      <td>NetIncomeLoss</td>\n",
       "      <td>-4.480900e+07</td>\n",
       "      <td>20231231</td>\n",
       "      <td>HAWAIIAN ELECTRIC INDUSTRIES INC reported net ...</td>\n",
       "    </tr>\n",
       "  </tbody>\n",
       "</table>\n",
       "</div>"
      ],
      "text/plain": [
       "                               name                                    tag  \\\n",
       "0             MR. COOPER GROUP INC.  CashAndCashEquivalentsAtCarryingValue   \n",
       "1             PITNEY BOWES INC /DE/                                 Assets   \n",
       "2                  LENDINGCLUB CORP                            Liabilities   \n",
       "3                       SNAP-ON INC                               Revenues   \n",
       "4  HAWAIIAN ELECTRIC INDUSTRIES INC                          NetIncomeLoss   \n",
       "\n",
       "          value     ddate                                           sentence  \n",
       "0  5.710000e+08  20231231  MR. COOPER GROUP INC. reported cash and cash e...  \n",
       "1  4.272185e+09  20231231  PITNEY BOWES INC /DE/ reported total assets of...  \n",
       "2  6.193000e+06  20231231  LENDINGCLUB CORP reported total liabilities of...  \n",
       "3  0.000000e+00  20231231   SNAP-ON INC reported revenue of 0.0 in 20231231.  \n",
       "4 -4.480900e+07  20231231  HAWAIIAN ELECTRIC INDUSTRIES INC reported net ...  "
      ]
     },
     "execution_count": 15,
     "metadata": {},
     "output_type": "execute_result"
    }
   ],
   "source": [
    "# Quick check\n",
    "facts_df[[\"name\",\"tag\",\"value\",\"ddate\",\"sentence\"]].head()"
   ]
  },
  {
   "cell_type": "code",
   "execution_count": 18,
   "id": "bd951800",
   "metadata": {},
   "outputs": [
    {
     "name": "stdout",
     "output_type": "stream",
     "text": [
      "Saved 221465 sentences to ../data\\processed\\financial_sentences1.csv\n"
     ]
    }
   ],
   "source": [
    "import os\n",
    "\n",
    "processed_dir = os.path.join(ROOT_DIR, \"data\", \"processed\")\n",
    "os.makedirs(processed_dir, exist_ok=True)\n",
    "\n",
    "processed_path = os.path.join(processed_dir, \"financial_sentences1.csv\")\n",
    "facts_df.to_csv(processed_path, index=False)\n",
    "\n",
    "print(f\"Saved {len(facts_df)} sentences to {processed_path}\")"
   ]
  },
  {
   "cell_type": "code",
   "execution_count": 19,
   "id": "2879e250",
   "metadata": {},
   "outputs": [
    {
     "name": "stdout",
     "output_type": "stream",
     "text": [
      "Total Q/A pairs generated: 221465\n",
      "Q/A pairs saved to: ../data\\qa_pairs.json\n"
     ]
    }
   ],
   "source": [
    "import json\n",
    "\n",
    "qa_pairs = []\n",
    "\n",
    "for _, row in facts_df.iterrows():\n",
    "    company = row[\"name\"]\n",
    "    tag = row[\"tag\"]\n",
    "    period = row[\"ddate\"]\n",
    "    value = row[\"value\"]\n",
    "    \n",
    "    # Tag -> phrase mapping (same as before, but for the question)\n",
    "    tag_map = {\n",
    "        \"Revenues\": \"revenue\",\n",
    "        \"NetIncomeLoss\": \"net income\",\n",
    "        \"Assets\": \"total assets\",\n",
    "        \"Liabilities\": \"total liabilities\",\n",
    "        \"CashAndCashEquivalentsAtCarryingValue\": \"cash and cash equivalents\"\n",
    "    }\n",
    "    \n",
    "    phrase = tag_map.get(tag, tag)\n",
    "    \n",
    "    # Build question\n",
    "    question = f\"What was {company}'s {phrase} in {period}?\"\n",
    "    # Build answer\n",
    "    answer = f\"{company} reported {phrase} of {value} in {period}.\"\n",
    "    \n",
    "    qa_pairs.append({\"question\": question, \"answer\": answer})\n",
    "\n",
    "print(f\"Total Q/A pairs generated: {len(qa_pairs)}\")\n",
    "\n",
    "# Save\n",
    "qa_path = os.path.join(ROOT_DIR, \"data\", \"qa_pairs.json\")\n",
    "os.makedirs(os.path.dirname(qa_path), exist_ok=True)\n",
    "\n",
    "with open(qa_path, \"w\") as f:\n",
    "    json.dump(qa_pairs, f, indent=2)\n",
    "\n",
    "print(f\"Q/A pairs saved to: {qa_path}\")\n"
   ]
  },
  {
   "cell_type": "code",
   "execution_count": 20,
   "id": "44d46c86",
   "metadata": {},
   "outputs": [
    {
     "name": "stdout",
     "output_type": "stream",
     "text": [
      "Saved a random sample of 50 Q/A pairs to: ../data\\qa_pairs_50.json\n"
     ]
    }
   ],
   "source": [
    "import random\n",
    "\n",
    "# Sample 50 random pairs\n",
    "sampled_qa_pairs = random.sample(qa_pairs, 50)\n",
    "\n",
    "# Save the sampled pairs to a separate file\n",
    "sampled_path = os.path.join(ROOT_DIR, \"data\", \"qa_pairs_50.json\")\n",
    "with open(sampled_path, \"w\") as f:\n",
    "    json.dump(sampled_qa_pairs, f, indent=2)\n",
    "\n",
    "print(f\"Saved a random sample of 50 Q/A pairs to: {sampled_path}\")\n",
    "\n"
   ]
  },
  {
   "cell_type": "code",
   "execution_count": 21,
   "id": "91cb9c2d",
   "metadata": {},
   "outputs": [
    {
     "name": "stdout",
     "output_type": "stream",
     "text": [
      "Saved a random sample of 100 Q/A pairs to: ../data\\qa_pairs_100.json\n"
     ]
    }
   ],
   "source": [
    "import random\n",
    "\n",
    "# Sample 50 random pairs\n",
    "sampled_qa_pairs = random.sample(qa_pairs, 100)\n",
    "\n",
    "# Save the sampled pairs to a separate file\n",
    "sampled_path = os.path.join(ROOT_DIR, \"data\", \"qa_pairs_100.json\")\n",
    "with open(sampled_path, \"w\") as f:\n",
    "    json.dump(sampled_qa_pairs, f, indent=2)\n",
    "\n",
    "print(f\"Saved a random sample of 100 Q/A pairs to: {sampled_path}\")\n",
    "\n"
   ]
  },
  {
   "cell_type": "code",
   "execution_count": null,
   "id": "1bb0fb11",
   "metadata": {},
   "outputs": [],
   "source": []
  }
 ],
 "metadata": {
  "kernelspec": {
   "display_name": "Python 3",
   "language": "python",
   "name": "python3"
  },
  "language_info": {
   "codemirror_mode": {
    "name": "ipython",
    "version": 3
   },
   "file_extension": ".py",
   "mimetype": "text/x-python",
   "name": "python",
   "nbconvert_exporter": "python",
   "pygments_lexer": "ipython3",
   "version": "3.12.10"
  }
 },
 "nbformat": 4,
 "nbformat_minor": 5
}
