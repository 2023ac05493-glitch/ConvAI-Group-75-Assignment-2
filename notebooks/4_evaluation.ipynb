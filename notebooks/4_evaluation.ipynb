{
 "cells": [
  {
   "cell_type": "markdown",
   "id": "0ef2145c",
   "metadata": {},
   "source": [
    "Load RAG model from the path ../models/rag_moodel"
   ]
  },
  {
   "cell_type": "code",
   "execution_count": 82,
   "id": "7b7e34a4",
   "metadata": {},
   "outputs": [
    {
     "name": "stdout",
     "output_type": "stream",
     "text": [
      "✅ RAG objects & retrieval functions loaded.\n"
     ]
    }
   ],
   "source": [
    "# --------------- RAG SETUP ------------------\n",
    "import json, pickle, time, re\n",
    "import numpy as np\n",
    "import pandas as pd\n",
    "import faiss\n",
    "from sentence_transformers import SentenceTransformer\n",
    "from transformers import AutoTokenizer, AutoModelForCausalLM\n",
    "from rank_bm25 import BM25Okapi\n",
    "from nltk.corpus import stopwords\n",
    "from sklearn.metrics.pairwise import cosine_similarity\n",
    "import torch\n",
    "\n",
    "# ---- Load chunk metadata & indexes (from models/rag_model/) ----\n",
    "rag_dir = \"../models/rag_model\"\n",
    "\n",
    "# Load chunks (from chunks.json)\n",
    "with open(f\"{rag_dir}/chunks.json\",\"r\") as f:\n",
    "    chunks_list = json.load(f)   # list[str]\n",
    "\n",
    "# Load FAISS index   \n",
    "faiss_index = faiss.read_index(f\"{rag_dir}/faiss_index.bin\")\n",
    "\n",
    "# Load dense embedder\n",
    "embedder = SentenceTransformer(\"sentence-transformers/all-MiniLM-L6-v2\")\n",
    "\n",
    "# Build BM25 model (using distilgpt2 tokenizer)\n",
    "tokenizer = AutoTokenizer.from_pretrained(\"distilgpt2\", local_files_only=True)\n",
    "tokenized_chunks = [tokenizer.tokenize(c.lower()) for c in chunks_list]\n",
    "normalized_chunks = [[t.lstrip(\"Ġ\") for t in toks] for toks in tokenized_chunks]\n",
    "bm25_model = BM25Okapi(normalized_chunks)\n",
    "\n",
    "# Hybrid retrieval functions (copied from RAG notebook)\n",
    "def preprocess_query(query):\n",
    "    sw = set(stopwords.words('english'))\n",
    "    query = re.sub(r'[^a-zA-Z0-9\\s]','', query.lower())\n",
    "    toks = tokenizer.tokenize(query)\n",
    "    toks = [t.lstrip(\"Ġ\") for t in toks]\n",
    "    return ' '.join([t for t in toks if t not in sw and len(t) > 2])\n",
    "\n",
    "def dense_retrieval(query, model, faiss_index, chunks, top_k=5):\n",
    "    emb = model.encode([query]).astype(np.float32)\n",
    "    dists, idxs = faiss_index.search(emb, top_k)\n",
    "    return [{\"chunk_id\":int(idx), \"text\":chunks[idx], \"score\":1/(1+dist)} \n",
    "            for dist,idx in zip(dists[0],idxs[0])]\n",
    "\n",
    "def sparse_retrieval(query, bm25, chunks, top_k=5):\n",
    "    toks = [t.lstrip(\"Ġ\") for t in tokenizer.tokenize(query.lower())]\n",
    "    scores = bm25.get_scores(toks)\n",
    "    top = np.argsort(scores)[::-1][:top_k]\n",
    "    return [{\"chunk_id\":int(i), \"text\":chunks[i], \"score\":float(scores[i])} for i in top]\n",
    "\n",
    "def combine_results(dense_r, sparse_r, alpha=0.7):\n",
    "    combined={}\n",
    "    if dense_r:\n",
    "        m=max([r['score'] for r in dense_r]);      [r.update(score=r['score']/m) for r in dense_r]\n",
    "    if sparse_r:\n",
    "        m=max([r['score'] for r in sparse_r]);     [r.update(score=r['score']/m) for r in sparse_r]\n",
    "    for r in dense_r:\n",
    "        combined[r['chunk_id']]={'text':r['text'],'score':alpha*r['score']}\n",
    "    for r in sparse_r:\n",
    "        if r['chunk_id'] in combined:\n",
    "            combined[r['chunk_id']]['score']+= (1-alpha)*r['score']\n",
    "        else:\n",
    "            combined[r['chunk_id']]={'text':r['text'],'score':(1-alpha)*r['score']}\n",
    "    return sorted(combined.values(), key=lambda x:x['score'], reverse=True)\n",
    "\n",
    "def hybrid_retrieve(query, top_k=5):\n",
    "    q = preprocess_query(query)\n",
    "    d = dense_retrieval(q, embedder, faiss_index, chunks_list, top_k)\n",
    "    s = sparse_retrieval(q, bm25_model, chunks_list, top_k)\n",
    "    return combine_results(d, s, alpha=0.7)[:top_k]\n",
    "\n",
    "print(\"✅ RAG objects & retrieval functions loaded.\")\n"
   ]
  },
  {
   "cell_type": "markdown",
   "id": "286b5df4",
   "metadata": {},
   "source": [
    "Load the fine-tuned model from the path ../models/fine_tuned_model."
   ]
  },
  {
   "cell_type": "code",
   "execution_count": 83,
   "id": "eb09efd4",
   "metadata": {},
   "outputs": [
    {
     "name": "stdout",
     "output_type": "stream",
     "text": [
      "✅ Fine-tuned and generator models loaded.\n"
     ]
    }
   ],
   "source": [
    "# --------------- LOAD FINE-TUNED MODEL ------------------\n",
    "ft_model_path = \"../models/fine_tuned_model\"\n",
    "\n",
    "ft_tokenizer = AutoTokenizer.from_pretrained(ft_model_path, local_files_only=True)\n",
    "ft_model     = AutoModelForCausalLM.from_pretrained(ft_model_path, local_files_only=True)\n",
    "\n",
    "# For RAG we use distilgpt2 as the generator\n",
    "rag_tokenizer = AutoTokenizer.from_pretrained(\"distilgpt2\", local_files_only=True)\n",
    "rag_model     = AutoModelForCausalLM.from_pretrained(\"distilgpt2\", local_files_only=True)\n",
    "\n",
    "print(\"✅ Fine-tuned and generator models loaded.\")\n"
   ]
  },
  {
   "cell_type": "code",
   "execution_count": 84,
   "id": "a3f2a79f",
   "metadata": {},
   "outputs": [],
   "source": [
    "# Set pad_token to eos_token to avoid padding errors\n",
    "rag_tokenizer.pad_token = rag_tokenizer.eos_token\n",
    "ft_tokenizer.pad_token = ft_tokenizer.eos_token"
   ]
  },
  {
   "cell_type": "markdown",
   "id": "4bb4aa32",
   "metadata": {},
   "source": [
    "Test Questions"
   ]
  },
  {
   "cell_type": "code",
   "execution_count": 85,
   "id": "2893ac0c",
   "metadata": {},
   "outputs": [],
   "source": [
    "test_questions = [\n",
    "    # 3 official\n",
    "    {\"question\": \"What was MR. COOPER GROUP INC.'s revenue in 2023?\",\n",
    "     \"ground_truth\":   \"4781000000.0\"},\n",
    "    {\"question\": \"What was PITNEY BOWES INC's revenue in 2024?\",\n",
    "     \"ground_truth\":   \"3100000000.0\"},\n",
    "    {\"question\": \"What is the capital of France?\",\n",
    "     \"ground_truth\":  \"Data not in scope\"},\n",
    "\n",
    "    # 10 more\n",
    "    {\"question\":\"What was PRUDENTIAL FINANCIAL INC's revenue in 2023?\",\n",
    "     \"ground_truth\":\"53979000000.0\"},\n",
    "    {\"question\":\"What was KAYNE ANDERSON BDC, INC.'s total liabilities in 2023?\",\n",
    "     \"ground_truth\":\"740610000.0\"},\n",
    "    {\"question\":\"What was CUMBERLAND PHARMACEUTICALS INC's total assets in 2022?\",\n",
    "     \"ground_truth\":\"92925158.0\"},\n",
    "    {\"question\":\"What was STERIS PLC's revenue in 2023?\",\n",
    "     \"ground_truth\":\"241114000.0\"},\n",
    "    {\"question\":\"What was FLUOR CORP's net income in 2022?\",\n",
    "     \"ground_truth\":\"-35332865.0\"},\n",
    "    {\"question\":\"What was AXON ENTERPRISE INC's total liabilities in 2023?\",\n",
    "     \"ground_truth\":\"959000000.0\"},\n",
    "    {\"question\":\"What was ZENTALIS PHARMACEUTICALS INC's net income in 2023?\",\n",
    "     \"ground_truth\":\"571000000.0\"},\n",
    "    {\"question\":\"What was BANK OF AMERICA CORP's revenue in 2023?\",\n",
    "     \"ground_truth\":\"4621000000.0\"},\n",
    "    {\"question\":\"What was VULCAN MATERIALS CO's revenue in 2023?\",\n",
    "     \"ground_truth\":\"18589000000.0\"},\n",
    "    {\"question\":\"What was UNITEDHEALTH GROUP INC's revenue in 2024?\",\n",
    "     \"ground_truth\":\"28560000000.0\"}\n",
    "]\n"
   ]
  },
  {
   "cell_type": "markdown",
   "id": "a0fc35c4",
   "metadata": {},
   "source": [
    "Function to get answer from finetuned model"
   ]
  },
  {
   "cell_type": "code",
   "execution_count": 86,
   "id": "c6b749aa",
   "metadata": {},
   "outputs": [],
   "source": [
    "import torch.nn.functional as F\n",
    "\n",
    "def answer_with_finetuned(q):\n",
    "    inputs = ft_tokenizer(q, return_tensors=\"pt\", padding=True, truncation=True)\n",
    "\n",
    "    with torch.no_grad():\n",
    "        outputs = ft_model.generate(\n",
    "            input_ids=inputs[\"input_ids\"],\n",
    "            attention_mask=inputs[\"attention_mask\"],\n",
    "            max_new_tokens=50,\n",
    "            pad_token_id=ft_tokenizer.eos_token_id,\n",
    "            return_dict_in_generate=True,\n",
    "            output_scores=True,\n",
    "            do_sample=False\n",
    "        )\n",
    "\n",
    "    generated_tokens = outputs.sequences[0][inputs[\"input_ids\"].shape[-1]:]\n",
    "\n",
    "    probs = [F.softmax(score[0], dim=-1) for score in outputs.scores]\n",
    "\n",
    "    token_confidences = []\n",
    "    for prob, token in zip(probs, generated_tokens):\n",
    "        token_id = token.item()\n",
    "        if token_id < prob.shape[0]:  # prevent out-of-bounds error\n",
    "            token_confidences.append(prob[token_id].item())\n",
    "        else:\n",
    "            token_confidences.append(0.0)  # fallback in case of mismatch\n",
    "\n",
    "    avg_confidence = sum(token_confidences) / len(token_confidences) if token_confidences else 0.0\n",
    "    generated_text = ft_tokenizer.decode(generated_tokens, skip_special_tokens=True)\n",
    "\n",
    "    return generated_text.strip(), avg_confidence\n"
   ]
  },
  {
   "cell_type": "markdown",
   "id": "13f51f73",
   "metadata": {},
   "source": [
    "Function to get answer from RAG model"
   ]
  },
  {
   "cell_type": "code",
   "execution_count": 88,
   "id": "00c3efba",
   "metadata": {},
   "outputs": [],
   "source": [
    "def answer_with_rag(q, top_k=5):\n",
    "    # Retrieve top-k chunks\n",
    "    top_chunks = hybrid_retrieve(q, top_k=top_k)\n",
    "    \n",
    "    # Compute \"confidence\" as the average of the normalized retrieval scores\n",
    "    if len(top_chunks) > 0:\n",
    "        confidence = float(np.mean([c[\"score\"] for c in top_chunks]))\n",
    "    else:\n",
    "        confidence = 0.0\n",
    "    \n",
    "    # Build context and generate final answer\n",
    "    context = \" \".join([c[\"text\"] for c in top_chunks])\n",
    "    prompt  = context + \"\\n\\nQuestion: \" + q + \"\\nAnswer:\"\n",
    "    # inp     = rag_tokenizer.encode(prompt, return_tensors=\"pt\")\n",
    "    inp = rag_tokenizer(prompt, return_tensors=\"pt\", padding=True, truncation=True)\n",
    "    out = rag_model.generate(\n",
    "    input_ids=inp[\"input_ids\"],\n",
    "    attention_mask=inp[\"attention_mask\"],\n",
    "    max_new_tokens=50,\n",
    "    pad_token_id=rag_tokenizer.eos_token_id\n",
    "    )\n",
    "    # out     = rag_model.generate(inp, max_new_tokens=50)\n",
    "    answer  = rag_tokenizer.decode(out[0], skip_special_tokens=True)\n",
    "    \n",
    "    return answer, confidence"
   ]
  },
  {
   "cell_type": "markdown",
   "id": "98ccd879",
   "metadata": {},
   "source": [
    "Guardrail"
   ]
  },
  {
   "cell_type": "code",
   "execution_count": 89,
   "id": "4bc7065d",
   "metadata": {},
   "outputs": [],
   "source": [
    "\n",
    "def input_guardrail(question: str) -> bool:\n",
    "    keywords = [\"revenue\", \"income\", \"assets\", \"liabilities\", \"cash\"]\n",
    "    return any(kw in question.lower() for kw in keywords)\n"
   ]
  },
  {
   "cell_type": "markdown",
   "id": "74dd295c",
   "metadata": {},
   "source": [
    "Results"
   ]
  },
  {
   "cell_type": "code",
   "execution_count": 90,
   "id": "bbd1d9f6",
   "metadata": {},
   "outputs": [],
   "source": [
    "\n",
    "\n",
    "results = []\n",
    "\n",
    "for item in test_questions:\n",
    "    q  = item[\"question\"]\n",
    "    gt = item[\"ground_truth\"]\n",
    "\n",
    "    # -----------------------------------------------\n",
    "    #         GUARDRAIL → check question\n",
    "    # -----------------------------------------------\n",
    "    if not input_guardrail(q):\n",
    "        ft_ans  = \"[Guardrail] Out-of-scope question\"\n",
    "        rag_ans = \"[Guardrail] Out-of-scope question\"\n",
    "        ft_conf = \"N/A\"\n",
    "        rag_conf = 0.0\n",
    "        t_ft, t_rag = 0.0, 0.0\n",
    "    else:\n",
    "        # fine-tuned model\n",
    "        # start = time.time()\n",
    "        # ft_ans = answer_with_finetuned(q)\n",
    "        # t_ft = time.time() - start\n",
    "        # ft_conf = \"N/A\"\n",
    "        start = time.time()\n",
    "        ft_ans, ft_conf = answer_with_finetuned(q)\n",
    "        t_ft = time.time() - start\n",
    "\n",
    "        # RAG model\n",
    "        start = time.time()\n",
    "        rag_ans, rag_conf = answer_with_rag(q)\n",
    "        t_rag = time.time() - start\n",
    "\n",
    "    results.append({\"question\":q,\"method\":\"Fine-Tuned\",\"answer\":ft_ans,\"ground_truth\":gt,\"confidence\": ft_conf,\"time(s)\":round(t_ft,2)})\n",
    "    results.append({\"question\":q,\"method\":\"RAG\",\"answer\":rag_ans,\"ground_truth\":gt,\"confidence\": rag_conf,\"time(s)\":round(t_rag,2)})\n",
    "\n",
    "df_results = pd.DataFrame(results)\n"
   ]
  },
  {
   "cell_type": "markdown",
   "id": "21e90743",
   "metadata": {},
   "source": [
    "Save the results in csv and xlxs file."
   ]
  },
  {
   "cell_type": "code",
   "execution_count": 92,
   "id": "d6148437",
   "metadata": {},
   "outputs": [
    {
     "name": "stdout",
     "output_type": "stream",
     "text": [
      "✅ Results saved to ../results/evaluation_results.xlsx\n",
      "✅ Results saved to ../results/evaluation_results.csv\n"
     ]
    }
   ],
   "source": [
    "# Save\n",
    "df_results.to_excel(\"../results/evaluation_results.xlsx\", index=False)\n",
    "print(\"✅ Results saved to ../results/evaluation_results.xlsx\")\n",
    "df_results.to_csv(\"../results/evaluation_results.csv\", index=False)\n",
    "print(\"✅ Results saved to ../results/evaluation_results.csv\")"
   ]
  },
  {
   "cell_type": "code",
   "execution_count": 93,
   "id": "f9de1c77",
   "metadata": {},
   "outputs": [
    {
     "data": {
      "text/html": [
       "<div>\n",
       "<style scoped>\n",
       "    .dataframe tbody tr th:only-of-type {\n",
       "        vertical-align: middle;\n",
       "    }\n",
       "\n",
       "    .dataframe tbody tr th {\n",
       "        vertical-align: top;\n",
       "    }\n",
       "\n",
       "    .dataframe thead th {\n",
       "        text-align: right;\n",
       "    }\n",
       "</style>\n",
       "<table border=\"1\" class=\"dataframe\">\n",
       "  <thead>\n",
       "    <tr style=\"text-align: right;\">\n",
       "      <th></th>\n",
       "      <th>question</th>\n",
       "      <th>method</th>\n",
       "      <th>answer</th>\n",
       "      <th>ground_truth</th>\n",
       "      <th>confidence</th>\n",
       "      <th>time(s)</th>\n",
       "    </tr>\n",
       "  </thead>\n",
       "  <tbody>\n",
       "    <tr>\n",
       "      <th>0</th>\n",
       "      <td>What was MR. COOPER GROUP INC.'s revenue in 2023?</td>\n",
       "      <td>Fine-Tuned</td>\n",
       "      <td>MR. COOPER GROUP INC. reported revenue of -0.0...</td>\n",
       "      <td>4781000000.0</td>\n",
       "      <td>0.913409</td>\n",
       "      <td>2.53</td>\n",
       "    </tr>\n",
       "    <tr>\n",
       "      <th>1</th>\n",
       "      <td>What was MR. COOPER GROUP INC.'s revenue in 2023?</td>\n",
       "      <td>RAG</td>\n",
       "      <td>LAMAR ADVERTISING CO/NEW reported net income o...</td>\n",
       "      <td>4781000000.0</td>\n",
       "      <td>0.69755</td>\n",
       "      <td>8.57</td>\n",
       "    </tr>\n",
       "    <tr>\n",
       "      <th>2</th>\n",
       "      <td>What was PITNEY BOWES INC's revenue in 2024?</td>\n",
       "      <td>Fine-Tuned</td>\n",
       "      <td>PITNEY BOWES INC reported revenue of -0.0 in 2...</td>\n",
       "      <td>3100000000.0</td>\n",
       "      <td>0.897528</td>\n",
       "      <td>2.16</td>\n",
       "    </tr>\n",
       "    <tr>\n",
       "      <th>3</th>\n",
       "      <td>What was PITNEY BOWES INC's revenue in 2024?</td>\n",
       "      <td>RAG</td>\n",
       "      <td>SEZZLE INC. reported revenue of 109739057.0 in...</td>\n",
       "      <td>3100000000.0</td>\n",
       "      <td>0.694203</td>\n",
       "      <td>7.82</td>\n",
       "    </tr>\n",
       "    <tr>\n",
       "      <th>4</th>\n",
       "      <td>What is the capital of France?</td>\n",
       "      <td>Fine-Tuned</td>\n",
       "      <td>[Guardrail] Out-of-scope question</td>\n",
       "      <td>Data not in scope</td>\n",
       "      <td>N/A</td>\n",
       "      <td>0.00</td>\n",
       "    </tr>\n",
       "  </tbody>\n",
       "</table>\n",
       "</div>"
      ],
      "text/plain": [
       "                                            question      method  \\\n",
       "0  What was MR. COOPER GROUP INC.'s revenue in 2023?  Fine-Tuned   \n",
       "1  What was MR. COOPER GROUP INC.'s revenue in 2023?         RAG   \n",
       "2       What was PITNEY BOWES INC's revenue in 2024?  Fine-Tuned   \n",
       "3       What was PITNEY BOWES INC's revenue in 2024?         RAG   \n",
       "4                     What is the capital of France?  Fine-Tuned   \n",
       "\n",
       "                                              answer       ground_truth  \\\n",
       "0  MR. COOPER GROUP INC. reported revenue of -0.0...       4781000000.0   \n",
       "1  LAMAR ADVERTISING CO/NEW reported net income o...       4781000000.0   \n",
       "2  PITNEY BOWES INC reported revenue of -0.0 in 2...       3100000000.0   \n",
       "3  SEZZLE INC. reported revenue of 109739057.0 in...       3100000000.0   \n",
       "4                  [Guardrail] Out-of-scope question  Data not in scope   \n",
       "\n",
       "  confidence  time(s)  \n",
       "0   0.913409     2.53  \n",
       "1    0.69755     8.57  \n",
       "2   0.897528     2.16  \n",
       "3   0.694203     7.82  \n",
       "4        N/A     0.00  "
      ]
     },
     "execution_count": 93,
     "metadata": {},
     "output_type": "execute_result"
    }
   ],
   "source": [
    "\n",
    "df_results.head()"
   ]
  },
  {
   "cell_type": "code",
   "execution_count": null,
   "id": "95f658a7",
   "metadata": {},
   "outputs": [],
   "source": []
  }
 ],
 "metadata": {
  "kernelspec": {
   "display_name": "Python 3",
   "language": "python",
   "name": "python3"
  },
  "language_info": {
   "codemirror_mode": {
    "name": "ipython",
    "version": 3
   },
   "file_extension": ".py",
   "mimetype": "text/x-python",
   "name": "python",
   "nbconvert_exporter": "python",
   "pygments_lexer": "ipython3",
   "version": "3.12.10"
  }
 },
 "nbformat": 4,
 "nbformat_minor": 5
}
